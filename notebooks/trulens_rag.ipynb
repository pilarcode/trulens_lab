{
 "cells": [
  {
   "cell_type": "code",
   "execution_count": 1,
   "metadata": {},
   "outputs": [],
   "source": [
    "import warnings\n",
    "warnings.filterwarnings(\"ignore\")\n"
   ]
  },
  {
   "cell_type": "markdown",
   "metadata": {},
   "source": [
    "## RAG"
   ]
  },
  {
   "cell_type": "markdown",
   "metadata": {},
   "source": [
    "* Embedding model and LLM"
   ]
  },
  {
   "cell_type": "code",
   "execution_count": 4,
   "metadata": {},
   "outputs": [],
   "source": [
    "import os\n",
    "import boto3\n",
    "from dotenv import load_dotenv\n",
    "load_dotenv(override=True)\n",
    "\n",
    "region_name = os.getenv(\"AWS_LLM_REGION_NAME\")\n",
    "model_id = os.getenv(\"AWS_LLM_MODEL_ID\") \n",
    "embedding_model_id = os.getenv(\"AWS_EMBEDDING_MODEL_ID\")\n",
    "\n",
    "#Create the Bedrock client and the Bedrock LLM\n",
    "client = boto3.client(service_name=\"bedrock-runtime\", region_name=region_name)\n"
   ]
  },
  {
   "cell_type": "code",
   "execution_count": 6,
   "metadata": {},
   "outputs": [],
   "source": [
    "from langchain_aws import ChatBedrockConverse\n",
    "\n",
    "\n",
    "bedrock_llm=  ChatBedrockConverse(\n",
    "                model= model_id ,\n",
    "                temperature=0,\n",
    "                max_tokens=None,\n",
    "                client=client)"
   ]
  },
  {
   "cell_type": "code",
   "execution_count": 7,
   "metadata": {},
   "outputs": [],
   "source": [
    "from langchain_aws.embeddings import BedrockEmbeddings\n",
    "embedder = BedrockEmbeddings(client=client,\n",
    "                                model_id=embedding_model_id,\n",
    "                                region_name=region_name)"
   ]
  },
  {
   "cell_type": "markdown",
   "metadata": {},
   "source": [
    "* Vector store"
   ]
  },
  {
   "cell_type": "code",
   "execution_count": 8,
   "metadata": {},
   "outputs": [],
   "source": [
    "from source.src.utils.faiss_m import FAISS_M\n",
    "\n",
    "MAR2_PATH_INDEX='../app/scenarios/index-mar2/index/FAISS_amazon.titan-embed-text-v1_chunk_size_500_overlap_50'\n",
    "mar2_index = FAISS_M.load_local(MAR2_PATH_INDEX, embedder, allow_dangerous_deserialization=True)"
   ]
  },
  {
   "cell_type": "code",
   "execution_count": 11,
   "metadata": {},
   "outputs": [],
   "source": [
    "base_retriever = mar2_index.as_retriever()\n",
    "base_retriever.search_kwargs[\"k\"]=3"
   ]
  },
  {
   "cell_type": "markdown",
   "metadata": {},
   "source": [
    "* Rag "
   ]
  },
  {
   "cell_type": "code",
   "execution_count": 13,
   "metadata": {},
   "outputs": [
    {
     "data": {
      "text/plain": [
       "'El escenario Queue trata sobre el servicio Amazon Simple Queue Service (SQS) de AWS. SQS es un servicio de cola de mensajes que permite enviar, almacenar y recibir mensajes de forma asíncrona entre componentes de software distribuidos.\\n\\nAlgunas características clave del escenario Queue con SQS son:\\n\\n1) Permite desacoplar y escalar microservicios y aplicaciones sin servidor enviando mensajes a una cola en lugar de invocaciones directas.\\n\\n2) Explica el ciclo de vida de los mensajes en SQS, donde un productor envía mensajes, un consumidor los recibe y procesa, y luego los elimina de la cola.\\n\\n3) Menciona consideraciones importantes como el tiempo de visibilidad de los mensajes, reintentos con MaxReceiveCount y gestión de errores moviendo mensajes a una cola de mensajes fallidos.\\n\\nEn resumen, el escenario Queue cubre el uso del servicio SQS de AWS como mecanismo de comunicación asíncrona y desacoplada entre componentes distribuidos mediante colas de mensajes.'"
      ]
     },
     "execution_count": 13,
     "metadata": {},
     "output_type": "execute_result"
    }
   ],
   "source": [
    "from langchain.prompts.chat import ChatPromptTemplate\n",
    "from langchain_core.runnables import RunnablePassthrough\n",
    "from langchain.output_parsers.json import SimpleJsonOutputParser\n",
    "from langchain_core.output_parsers import StrOutputParser\n",
    "\n",
    "system_template = \"\"\"You are an assistant for question-answering tasks. \n",
    "Use the following pieces of retrieved context to answer the question. \n",
    "If you don't know the answer, just say that you don't know. \n",
    "Use three sentences maximum and keep the answer concise.\n",
    "\n",
    "Question: {question} \n",
    "\n",
    "Context: {context} \n",
    "\n",
    "Answer:\"\"\"\n",
    "\n",
    "user_template = \"{question}\"\n",
    "\n",
    "rag_prompt = ChatPromptTemplate.from_messages([\n",
    "            (\"system\",system_template),\n",
    "            (\"user\",user_template)\n",
    "        ])\n",
    "\n",
    "def format_docs(docs):\n",
    "    return \"\\n\\n\".join(doc.page_content for doc in docs)\n",
    "\n",
    "\n",
    "\n",
    "rag_chain = (\n",
    "    {\"context\": base_retriever | format_docs, \"question\": RunnablePassthrough()}\n",
    "    | rag_prompt\n",
    "    | bedrock_llm\n",
    "    | StrOutputParser()\n",
    ")\n",
    "\n",
    "rag_chain.invoke(\"¿Qué trata el escenario Queue ?\")"
   ]
  },
  {
   "cell_type": "markdown",
   "metadata": {},
   "source": [
    "## Trulens"
   ]
  },
  {
   "cell_type": "markdown",
   "metadata": {},
   "source": [
    "* Bedrock llm - trulens lib"
   ]
  },
  {
   "cell_type": "code",
   "execution_count": 14,
   "metadata": {},
   "outputs": [],
   "source": [
    "from trulens.providers.bedrock import Bedrock\n",
    "\n",
    "bedrock = Bedrock(model_id=model_id, region_name=region_name)\n"
   ]
  },
  {
   "cell_type": "markdown",
   "metadata": {},
   "source": [
    "* The RAG triad is made up of 3 evaluations: \n",
    "    - context relevance\n",
    "    - groundedness\n",
    "    - answer relevance. \n",
    "\n",
    "Satisfactory evaluations on each provides us confidence that our LLM app is free from hallucination."
   ]
  },
  {
   "cell_type": "markdown",
   "metadata": {},
   "source": [
    "* Instrument chain for logging with TruLens"
   ]
  },
  {
   "cell_type": "code",
   "execution_count": 15,
   "metadata": {},
   "outputs": [
    {
     "name": "stdout",
     "output_type": "stream",
     "text": [
      "🦑 TruSession initialized with db url sqlite:///default.sqlite .\n",
      "🛑 Secret keys may be written to the database. See the `database_redact_keys` option of `TruSession` to prevent this.\n"
     ]
    }
   ],
   "source": [
    "from trulens.core import TruSession\n",
    "\n",
    "session = TruSession()\n",
    "session.reset_database()"
   ]
  },
  {
   "cell_type": "markdown",
   "metadata": {},
   "source": [
    "* Initialize Feedback Function(s)"
   ]
  },
  {
   "cell_type": "code",
   "execution_count": 16,
   "metadata": {},
   "outputs": [
    {
     "name": "stdout",
     "output_type": "stream",
     "text": [
      "✅ In Context Relevance, input question will be set to __record__.main_input or `Select.RecordInput` .\n",
      "✅ In Context Relevance, input context will be set to __record__.app.first.steps__.context.first.invoke.rets[:].page_content.collect() .\n"
     ]
    }
   ],
   "source": [
    "from trulens.core import Feedback\n",
    "import numpy as np\n",
    "\n",
    "from trulens.apps.langchain import TruChain\n",
    "\n",
    "\n",
    "context = TruChain.select_context(rag_chain)\n",
    "# Context relevance between question and each context chunk.\n",
    "f_context_relevance = (\n",
    "    Feedback(\n",
    "        bedrock.context_relevance_with_cot_reasons, name=\"Context Relevance\"\n",
    "    )\n",
    "    .on_input()\n",
    "    .on(context.collect())\n",
    "    .aggregate(np.mean)  # choose a different aggregation method if you wish\n",
    ")"
   ]
  },
  {
   "cell_type": "code",
   "execution_count": 17,
   "metadata": {},
   "outputs": [
    {
     "name": "stdout",
     "output_type": "stream",
     "text": [
      "✅ In Answer Relevance, input prompt will be set to __record__.main_input or `Select.RecordInput` .\n",
      "✅ In Answer Relevance, input response will be set to __record__.main_output or `Select.RecordOutput` .\n"
     ]
    }
   ],
   "source": [
    "# Question/answer relevance between overall question and answer.\n",
    "f_answer_relevance = Feedback(\n",
    "    bedrock.relevance_with_cot_reasons, name=\"Answer Relevance\"\n",
    ").on_input_output()"
   ]
  },
  {
   "cell_type": "code",
   "execution_count": 18,
   "metadata": {},
   "outputs": [
    {
     "name": "stdout",
     "output_type": "stream",
     "text": [
      "✅ In Groundedness, input source will be set to __record__.app.first.steps__.context.first.invoke.rets[:].page_content.collect() .\n",
      "✅ In Groundedness, input statement will be set to __record__.main_output or `Select.RecordOutput` .\n"
     ]
    }
   ],
   "source": [
    "# Define a groundedness feedback function\n",
    "f_groundedness = (\n",
    "    Feedback(\n",
    "        bedrock.groundedness_measure_with_cot_reasons, name=\"Groundedness\"\n",
    "    )\n",
    "    .on(context.collect())\n",
    "    .on_output()\n",
    ")"
   ]
  },
  {
   "cell_type": "code",
   "execution_count": 19,
   "metadata": {},
   "outputs": [],
   "source": [
    "\n",
    "tru_recorder = TruChain(\n",
    "    rag_chain,\n",
    "    app_name=\"ChatApplication\",\n",
    "    app_version=\"Chain1\",\n",
    "    feedbacks=[f_answer_relevance, f_context_relevance, f_groundedness]\n",
    ")"
   ]
  },
  {
   "cell_type": "code",
   "execution_count": 20,
   "metadata": {},
   "outputs": [],
   "source": [
    "questions = [\n",
    "    \"¿Qué trata el escenario Queue ?\",\n",
    "    \"¿Cual es la raiz cuadrada de pi?\",\n",
    "]\n",
    "with tru_recorder as recording:\n",
    "    for question in questions:\n",
    "        llm_response = rag_chain.invoke(question)\n",
    "\n"
   ]
  },
  {
   "cell_type": "markdown",
   "metadata": {},
   "source": [
    "* Explore results in the notebook"
   ]
  },
  {
   "cell_type": "code",
   "execution_count": 21,
   "metadata": {},
   "outputs": [
    {
     "data": {
      "text/html": [
       "<div>\n",
       "<style scoped>\n",
       "    .dataframe tbody tr th:only-of-type {\n",
       "        vertical-align: middle;\n",
       "    }\n",
       "\n",
       "    .dataframe tbody tr th {\n",
       "        vertical-align: top;\n",
       "    }\n",
       "\n",
       "    .dataframe thead th {\n",
       "        text-align: right;\n",
       "    }\n",
       "</style>\n",
       "<table border=\"1\" class=\"dataframe\">\n",
       "  <thead>\n",
       "    <tr style=\"text-align: right;\">\n",
       "      <th></th>\n",
       "      <th>app_id</th>\n",
       "      <th>app_json</th>\n",
       "      <th>type</th>\n",
       "      <th>record_id</th>\n",
       "      <th>input</th>\n",
       "      <th>output</th>\n",
       "      <th>tags</th>\n",
       "      <th>record_json</th>\n",
       "      <th>cost_json</th>\n",
       "      <th>perf_json</th>\n",
       "      <th>ts</th>\n",
       "      <th>app_name</th>\n",
       "      <th>app_version</th>\n",
       "      <th>latency</th>\n",
       "      <th>total_tokens</th>\n",
       "      <th>total_cost</th>\n",
       "      <th>cost_currency</th>\n",
       "    </tr>\n",
       "  </thead>\n",
       "  <tbody>\n",
       "    <tr>\n",
       "      <th>0</th>\n",
       "      <td>app_hash_8b39eafded6d3f261511a7e6bd65cb42</td>\n",
       "      <td>{\"tru_class_info\": {\"name\": \"TruChain\", \"modul...</td>\n",
       "      <td>RunnableSequence(langchain_core.runnables.base)</td>\n",
       "      <td>record_hash_7e1d31e0b7db4b3730a0ac6ae974a972</td>\n",
       "      <td>\"\\u00bfQu\\u00e9 trata el escenario Queue ?\"</td>\n",
       "      <td>\"El escenario Queue trata sobre el servicio Am...</td>\n",
       "      <td>-</td>\n",
       "      <td>{\"record_id\": \"record_hash_7e1d31e0b7db4b3730a...</td>\n",
       "      <td>{\"n_requests\": 0, \"n_successful_requests\": 0, ...</td>\n",
       "      <td>{\"start_time\": \"2024-09-22T11:14:58.773207\", \"...</td>\n",
       "      <td>2024-09-22T11:15:05.472035</td>\n",
       "      <td>ChatApplication</td>\n",
       "      <td>Chain1</td>\n",
       "      <td>6</td>\n",
       "      <td>0</td>\n",
       "      <td>0.0</td>\n",
       "      <td>USD</td>\n",
       "    </tr>\n",
       "    <tr>\n",
       "      <th>1</th>\n",
       "      <td>app_hash_8b39eafded6d3f261511a7e6bd65cb42</td>\n",
       "      <td>{\"tru_class_info\": {\"name\": \"TruChain\", \"modul...</td>\n",
       "      <td>RunnableSequence(langchain_core.runnables.base)</td>\n",
       "      <td>record_hash_a32026b96df0079fd1e88b242a5bce1f</td>\n",
       "      <td>\"\\u00bfCual es la raiz cuadrada de pi?\"</td>\n",
       "      <td>\"Desafortunadamente, la ra\\u00edz cuadrada de ...</td>\n",
       "      <td>-</td>\n",
       "      <td>{\"record_id\": \"record_hash_a32026b96df0079fd1e...</td>\n",
       "      <td>{\"n_requests\": 0, \"n_successful_requests\": 0, ...</td>\n",
       "      <td>{\"start_time\": \"2024-09-22T11:15:05.675275\", \"...</td>\n",
       "      <td>2024-09-22T11:15:09.159283</td>\n",
       "      <td>ChatApplication</td>\n",
       "      <td>Chain1</td>\n",
       "      <td>3</td>\n",
       "      <td>0</td>\n",
       "      <td>0.0</td>\n",
       "      <td>USD</td>\n",
       "    </tr>\n",
       "  </tbody>\n",
       "</table>\n",
       "</div>"
      ],
      "text/plain": [
       "                                      app_id  \\\n",
       "0  app_hash_8b39eafded6d3f261511a7e6bd65cb42   \n",
       "1  app_hash_8b39eafded6d3f261511a7e6bd65cb42   \n",
       "\n",
       "                                            app_json  \\\n",
       "0  {\"tru_class_info\": {\"name\": \"TruChain\", \"modul...   \n",
       "1  {\"tru_class_info\": {\"name\": \"TruChain\", \"modul...   \n",
       "\n",
       "                                              type  \\\n",
       "0  RunnableSequence(langchain_core.runnables.base)   \n",
       "1  RunnableSequence(langchain_core.runnables.base)   \n",
       "\n",
       "                                      record_id  \\\n",
       "0  record_hash_7e1d31e0b7db4b3730a0ac6ae974a972   \n",
       "1  record_hash_a32026b96df0079fd1e88b242a5bce1f   \n",
       "\n",
       "                                         input  \\\n",
       "0  \"\\u00bfQu\\u00e9 trata el escenario Queue ?\"   \n",
       "1      \"\\u00bfCual es la raiz cuadrada de pi?\"   \n",
       "\n",
       "                                              output tags  \\\n",
       "0  \"El escenario Queue trata sobre el servicio Am...    -   \n",
       "1  \"Desafortunadamente, la ra\\u00edz cuadrada de ...    -   \n",
       "\n",
       "                                         record_json  \\\n",
       "0  {\"record_id\": \"record_hash_7e1d31e0b7db4b3730a...   \n",
       "1  {\"record_id\": \"record_hash_a32026b96df0079fd1e...   \n",
       "\n",
       "                                           cost_json  \\\n",
       "0  {\"n_requests\": 0, \"n_successful_requests\": 0, ...   \n",
       "1  {\"n_requests\": 0, \"n_successful_requests\": 0, ...   \n",
       "\n",
       "                                           perf_json  \\\n",
       "0  {\"start_time\": \"2024-09-22T11:14:58.773207\", \"...   \n",
       "1  {\"start_time\": \"2024-09-22T11:15:05.675275\", \"...   \n",
       "\n",
       "                           ts         app_name app_version  latency  \\\n",
       "0  2024-09-22T11:15:05.472035  ChatApplication      Chain1        6   \n",
       "1  2024-09-22T11:15:09.159283  ChatApplication      Chain1        3   \n",
       "\n",
       "   total_tokens  total_cost cost_currency  \n",
       "0             0         0.0           USD  \n",
       "1             0         0.0           USD  "
      ]
     },
     "execution_count": 21,
     "metadata": {},
     "output_type": "execute_result"
    }
   ],
   "source": [
    "session.get_records_and_feedback()[0]"
   ]
  },
  {
   "cell_type": "code",
   "execution_count": 22,
   "metadata": {},
   "outputs": [
    {
     "data": {
      "text/html": [
       "<div>\n",
       "<style scoped>\n",
       "    .dataframe tbody tr th:only-of-type {\n",
       "        vertical-align: middle;\n",
       "    }\n",
       "\n",
       "    .dataframe tbody tr th {\n",
       "        vertical-align: top;\n",
       "    }\n",
       "\n",
       "    .dataframe thead th {\n",
       "        text-align: right;\n",
       "    }\n",
       "</style>\n",
       "<table border=\"1\" class=\"dataframe\">\n",
       "  <thead>\n",
       "    <tr style=\"text-align: right;\">\n",
       "      <th></th>\n",
       "      <th>app_id</th>\n",
       "      <th>app_json</th>\n",
       "      <th>type</th>\n",
       "      <th>record_id</th>\n",
       "      <th>input</th>\n",
       "      <th>output</th>\n",
       "      <th>tags</th>\n",
       "      <th>record_json</th>\n",
       "      <th>cost_json</th>\n",
       "      <th>perf_json</th>\n",
       "      <th>...</th>\n",
       "      <th>Answer Relevance_calls</th>\n",
       "      <th>Context Relevance_calls</th>\n",
       "      <th>Answer Relevance feedback cost in USD</th>\n",
       "      <th>Context Relevance feedback cost in USD</th>\n",
       "      <th>app_name</th>\n",
       "      <th>app_version</th>\n",
       "      <th>latency</th>\n",
       "      <th>total_tokens</th>\n",
       "      <th>total_cost</th>\n",
       "      <th>cost_currency</th>\n",
       "    </tr>\n",
       "  </thead>\n",
       "  <tbody>\n",
       "    <tr>\n",
       "      <th>0</th>\n",
       "      <td>app_hash_8b39eafded6d3f261511a7e6bd65cb42</td>\n",
       "      <td>{\"tru_class_info\": {\"name\": \"TruChain\", \"modul...</td>\n",
       "      <td>RunnableSequence(langchain_core.runnables.base)</td>\n",
       "      <td>record_hash_7e1d31e0b7db4b3730a0ac6ae974a972</td>\n",
       "      <td>\"\\u00bfQu\\u00e9 trata el escenario Queue ?\"</td>\n",
       "      <td>\"El escenario Queue trata sobre el servicio Am...</td>\n",
       "      <td>-</td>\n",
       "      <td>{\"record_id\": \"record_hash_7e1d31e0b7db4b3730a...</td>\n",
       "      <td>{\"n_requests\": 0, \"n_successful_requests\": 0, ...</td>\n",
       "      <td>{\"start_time\": \"2024-09-22T11:14:58.773207\", \"...</td>\n",
       "      <td>...</td>\n",
       "      <td>[{'args': {'prompt': '¿Qué trata el escenario ...</td>\n",
       "      <td>[{'args': {'question': '¿Qué trata el escenari...</td>\n",
       "      <td>0.0</td>\n",
       "      <td>0.0</td>\n",
       "      <td>ChatApplication</td>\n",
       "      <td>Chain1</td>\n",
       "      <td>6</td>\n",
       "      <td>0</td>\n",
       "      <td>0.0</td>\n",
       "      <td>USD</td>\n",
       "    </tr>\n",
       "    <tr>\n",
       "      <th>1</th>\n",
       "      <td>app_hash_8b39eafded6d3f261511a7e6bd65cb42</td>\n",
       "      <td>{\"tru_class_info\": {\"name\": \"TruChain\", \"modul...</td>\n",
       "      <td>RunnableSequence(langchain_core.runnables.base)</td>\n",
       "      <td>record_hash_a32026b96df0079fd1e88b242a5bce1f</td>\n",
       "      <td>\"\\u00bfCual es la raiz cuadrada de pi?\"</td>\n",
       "      <td>\"Desafortunadamente, la ra\\u00edz cuadrada de ...</td>\n",
       "      <td>-</td>\n",
       "      <td>{\"record_id\": \"record_hash_a32026b96df0079fd1e...</td>\n",
       "      <td>{\"n_requests\": 0, \"n_successful_requests\": 0, ...</td>\n",
       "      <td>{\"start_time\": \"2024-09-22T11:15:05.675275\", \"...</td>\n",
       "      <td>...</td>\n",
       "      <td>NaN</td>\n",
       "      <td>NaN</td>\n",
       "      <td>NaN</td>\n",
       "      <td>NaN</td>\n",
       "      <td>ChatApplication</td>\n",
       "      <td>Chain1</td>\n",
       "      <td>3</td>\n",
       "      <td>0</td>\n",
       "      <td>0.0</td>\n",
       "      <td>USD</td>\n",
       "    </tr>\n",
       "  </tbody>\n",
       "</table>\n",
       "<p>2 rows × 23 columns</p>\n",
       "</div>"
      ],
      "text/plain": [
       "                                      app_id  \\\n",
       "0  app_hash_8b39eafded6d3f261511a7e6bd65cb42   \n",
       "1  app_hash_8b39eafded6d3f261511a7e6bd65cb42   \n",
       "\n",
       "                                            app_json  \\\n",
       "0  {\"tru_class_info\": {\"name\": \"TruChain\", \"modul...   \n",
       "1  {\"tru_class_info\": {\"name\": \"TruChain\", \"modul...   \n",
       "\n",
       "                                              type  \\\n",
       "0  RunnableSequence(langchain_core.runnables.base)   \n",
       "1  RunnableSequence(langchain_core.runnables.base)   \n",
       "\n",
       "                                      record_id  \\\n",
       "0  record_hash_7e1d31e0b7db4b3730a0ac6ae974a972   \n",
       "1  record_hash_a32026b96df0079fd1e88b242a5bce1f   \n",
       "\n",
       "                                         input  \\\n",
       "0  \"\\u00bfQu\\u00e9 trata el escenario Queue ?\"   \n",
       "1      \"\\u00bfCual es la raiz cuadrada de pi?\"   \n",
       "\n",
       "                                              output tags  \\\n",
       "0  \"El escenario Queue trata sobre el servicio Am...    -   \n",
       "1  \"Desafortunadamente, la ra\\u00edz cuadrada de ...    -   \n",
       "\n",
       "                                         record_json  \\\n",
       "0  {\"record_id\": \"record_hash_7e1d31e0b7db4b3730a...   \n",
       "1  {\"record_id\": \"record_hash_a32026b96df0079fd1e...   \n",
       "\n",
       "                                           cost_json  \\\n",
       "0  {\"n_requests\": 0, \"n_successful_requests\": 0, ...   \n",
       "1  {\"n_requests\": 0, \"n_successful_requests\": 0, ...   \n",
       "\n",
       "                                           perf_json  ...  \\\n",
       "0  {\"start_time\": \"2024-09-22T11:14:58.773207\", \"...  ...   \n",
       "1  {\"start_time\": \"2024-09-22T11:15:05.675275\", \"...  ...   \n",
       "\n",
       "                              Answer Relevance_calls  \\\n",
       "0  [{'args': {'prompt': '¿Qué trata el escenario ...   \n",
       "1                                                NaN   \n",
       "\n",
       "                             Context Relevance_calls  \\\n",
       "0  [{'args': {'question': '¿Qué trata el escenari...   \n",
       "1                                                NaN   \n",
       "\n",
       "   Answer Relevance feedback cost in USD  \\\n",
       "0                                    0.0   \n",
       "1                                    NaN   \n",
       "\n",
       "  Context Relevance feedback cost in USD         app_name  app_version  \\\n",
       "0                                    0.0  ChatApplication       Chain1   \n",
       "1                                    NaN  ChatApplication       Chain1   \n",
       "\n",
       "   latency total_tokens total_cost  cost_currency  \n",
       "0        6            0        0.0            USD  \n",
       "1        3            0        0.0            USD  \n",
       "\n",
       "[2 rows x 23 columns]"
      ]
     },
     "execution_count": 22,
     "metadata": {},
     "output_type": "execute_result"
    }
   ],
   "source": [
    "df = session.get_records_and_feedback()[0]\n",
    "df.head()"
   ]
  },
  {
   "cell_type": "markdown",
   "metadata": {},
   "source": [
    "*  Explore in a Dashboard"
   ]
  },
  {
   "cell_type": "code",
   "execution_count": 28,
   "metadata": {},
   "outputs": [
    {
     "data": {
      "text/html": [
       "<div>\n",
       "<style scoped>\n",
       "    .dataframe tbody tr th:only-of-type {\n",
       "        vertical-align: middle;\n",
       "    }\n",
       "\n",
       "    .dataframe tbody tr th {\n",
       "        vertical-align: top;\n",
       "    }\n",
       "\n",
       "    .dataframe thead th {\n",
       "        text-align: right;\n",
       "    }\n",
       "</style>\n",
       "<table border=\"1\" class=\"dataframe\">\n",
       "  <thead>\n",
       "    <tr style=\"text-align: right;\">\n",
       "      <th></th>\n",
       "      <th></th>\n",
       "      <th>Groundedness</th>\n",
       "      <th>Answer Relevance</th>\n",
       "      <th>Context Relevance</th>\n",
       "      <th>latency</th>\n",
       "      <th>total_cost</th>\n",
       "    </tr>\n",
       "    <tr>\n",
       "      <th>app_name</th>\n",
       "      <th>app_version</th>\n",
       "      <th></th>\n",
       "      <th></th>\n",
       "      <th></th>\n",
       "      <th></th>\n",
       "      <th></th>\n",
       "    </tr>\n",
       "  </thead>\n",
       "  <tbody>\n",
       "    <tr>\n",
       "      <th>ChatApplication</th>\n",
       "      <th>Chain1</th>\n",
       "      <td>0.5</td>\n",
       "      <td>0.666667</td>\n",
       "      <td>0.5</td>\n",
       "      <td>4.5</td>\n",
       "      <td>0.0</td>\n",
       "    </tr>\n",
       "  </tbody>\n",
       "</table>\n",
       "</div>"
      ],
      "text/plain": [
       "                             Groundedness  Answer Relevance  \\\n",
       "app_name        app_version                                   \n",
       "ChatApplication Chain1                0.5          0.666667   \n",
       "\n",
       "                             Context Relevance  latency  total_cost  \n",
       "app_name        app_version                                          \n",
       "ChatApplication Chain1                     0.5      4.5         0.0  "
      ]
     },
     "execution_count": 28,
     "metadata": {},
     "output_type": "execute_result"
    }
   ],
   "source": [
    "session.get_leaderboard(app_ids=[tru_recorder.app_id])"
   ]
  }
 ],
 "metadata": {
  "kernelspec": {
   "display_name": "Python 3",
   "language": "python",
   "name": "python3"
  },
  "language_info": {
   "codemirror_mode": {
    "name": "ipython",
    "version": 3
   },
   "file_extension": ".py",
   "mimetype": "text/x-python",
   "name": "python",
   "nbconvert_exporter": "python",
   "pygments_lexer": "ipython3",
   "version": "3.12.5"
  }
 },
 "nbformat": 4,
 "nbformat_minor": 2
}
